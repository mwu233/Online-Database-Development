{
 "cells": [
  {
   "cell_type": "code",
   "execution_count": 1,
   "metadata": {},
   "outputs": [],
   "source": [
    "%load_ext sql"
   ]
  },
  {
   "cell_type": "code",
   "execution_count": 2,
   "metadata": {},
   "outputs": [
    {
     "data": {
      "text/plain": [
       "u'Connected: @./AuctionBase.db'"
      ]
     },
     "execution_count": 2,
     "metadata": {},
     "output_type": "execute_result"
    }
   ],
   "source": [
    "%sql sqlite:///./AuctionBase.db"
   ]
  },
  {
   "cell_type": "code",
   "execution_count": 82,
   "metadata": {},
   "outputs": [
    {
     "name": "stderr",
     "output_type": "stream",
     "text": [
      "0.0 (1): select time from currenttime where time <= '2001-12-20 00:00:11'\n",
      "ERR: update CurrentTime set Time = '2001-12-20 00:00:11'\n",
      "0.0 (3): select Time from CurrentTime\n"
     ]
    },
    {
     "data": {
      "text/plain": [
       "u'2001-12-20 00:00:09'"
      ]
     },
     "execution_count": 82,
     "metadata": {},
     "output_type": "execute_result"
    }
   ],
   "source": [
    "# getItemById(1043374545)\n",
    "# getCategoryById(1043374545)\n",
    "# getBidById(1043495702)\n",
    "# getStatusById(1043495702)\n",
    "updateTime('2001-12-20 00:00:11')\n",
    "getTime()\n",
    "# addBid(1047117252,'ofur', 7.03)\n",
    "# addBid(1046682949,'goldcoastvideo', 5.0)\n",
    "# addBid(1,2, 350, '2018-12-10 00:00:12')\n",
    "# addBid(1,2, 550, '2018-12-10 00:00:13')\n",
    "# addBid(1,3, 650, '2018-12-10 00:00:14')"
   ]
  },
  {
   "cell_type": "code",
   "execution_count": 74,
   "metadata": {},
   "outputs": [
    {
     "name": "stdout",
     "output_type": "stream",
     "text": [
      " * sqlite:///./AuctionBase.db\n",
      "Done.\n"
     ]
    },
    {
     "data": {
      "text/html": [
       "<table>\n",
       "    <tr>\n",
       "        <th>Time</th>\n",
       "    </tr>\n",
       "    <tr>\n",
       "        <td>2001-12-20 00:00:09</td>\n",
       "    </tr>\n",
       "</table>"
      ],
      "text/plain": [
       "[(u'2001-12-20 00:00:09',)]"
      ]
     },
     "execution_count": 74,
     "metadata": {},
     "output_type": "execute_result"
    }
   ],
   "source": [
    "%%sql\n",
    "select time from currenttime where time <= '2001-12-20 00:00:11'"
   ]
  },
  {
   "cell_type": "code",
   "execution_count": 64,
   "metadata": {},
   "outputs": [
    {
     "name": "stdout",
     "output_type": "stream",
     "text": [
      " * sqlite:///./AuctionBase.db\n",
      "Done.\n"
     ]
    },
    {
     "data": {
      "text/html": [
       "<table>\n",
       "    <tr>\n",
       "        <th>ItemID</th>\n",
       "        <th>UserID</th>\n",
       "        <th>Amount</th>\n",
       "        <th>Time</th>\n",
       "    </tr>\n",
       "    <tr>\n",
       "        <td>1047117252</td>\n",
       "        <td>koalarick</td>\n",
       "        <td>4.83</td>\n",
       "        <td>2001-12-12 17:18:20</td>\n",
       "    </tr>\n",
       "    <tr>\n",
       "        <td>1047117252</td>\n",
       "        <td>kag54</td>\n",
       "        <td>5.66</td>\n",
       "        <td>2001-12-14 04:14:40</td>\n",
       "    </tr>\n",
       "    <tr>\n",
       "        <td>1047117252</td>\n",
       "        <td>devostevo</td>\n",
       "        <td>6.5</td>\n",
       "        <td>2001-12-15 15:11:00</td>\n",
       "    </tr>\n",
       "    <tr>\n",
       "        <td>1047117252</td>\n",
       "        <td>ofur</td>\n",
       "        <td>7.0</td>\n",
       "        <td>2001-12-20 00:00:07</td>\n",
       "    </tr>\n",
       "    <tr>\n",
       "        <td>1047117252</td>\n",
       "        <td>ofur</td>\n",
       "        <td>7.01</td>\n",
       "        <td>2001-12-20 00:00:08</td>\n",
       "    </tr>\n",
       "</table>"
      ],
      "text/plain": [
       "[(1047117252, u'koalarick', 4.83, u'2001-12-12 17:18:20'),\n",
       " (1047117252, u'kag54', 5.66, u'2001-12-14 04:14:40'),\n",
       " (1047117252, u'devostevo', 6.5, u'2001-12-15 15:11:00'),\n",
       " (1047117252, u'ofur', 7.0, u'2001-12-20 00:00:07'),\n",
       " (1047117252, u'ofur', 7.01, u'2001-12-20 00:00:08')]"
      ]
     },
     "execution_count": 64,
     "metadata": {},
     "output_type": "execute_result"
    }
   ],
   "source": [
    "%%sql\n",
    "select * from bids where itemid = 1047117252"
   ]
  },
  {
   "cell_type": "code",
   "execution_count": 65,
   "metadata": {},
   "outputs": [
    {
     "name": "stdout",
     "output_type": "stream",
     "text": [
      " * sqlite:///./AuctionBase.db\n",
      "Done.\n"
     ]
    },
    {
     "data": {
      "text/html": [
       "<table>\n",
       "    <tr>\n",
       "        <th>ItemID</th>\n",
       "        <th>Name</th>\n",
       "        <th>Currently</th>\n",
       "        <th>First_Bid</th>\n",
       "        <th>Buy_Price</th>\n",
       "        <th>Number_of_Bids</th>\n",
       "        <th>Started</th>\n",
       "        <th>Ends</th>\n",
       "        <th>Seller_UserID</th>\n",
       "        <th>Description</th>\n",
       "    </tr>\n",
       "    <tr>\n",
       "        <td>1047117252</td>\n",
       "        <td>OLD HORROR GHOST COMIC BOOKS DOCTOR GRAVES #1</td>\n",
       "        <td>7.01</td>\n",
       "        <td>3.99</td>\n",
       "        <td>7.91</td>\n",
       "        <td>6</td>\n",
       "        <td>2001-12-11 06:22:00</td>\n",
       "        <td>2001-12-21 06:22:00</td>\n",
       "        <td>toyys</td>\n",
       "        <td>These 9 old comic books all have ghost related titles. These date back to the 1960s. Includes Ghost manor #2, Ghost Stories #15, Ghostly Tales #66 and #68, Many Ghosts of Doctor Graves #1 and #10,Visit Ghost manor #73 and #75 and Ghosts #109. These are all complete cool old comics.I will be listing many old items in the future please book mark my auctions you will be happy you did. No reserve and the buyer pays 3.429 s&amp;h in the U.S.A.As always full refund given if my description is inaccurate!</td>\n",
       "    </tr>\n",
       "</table>"
      ],
      "text/plain": [
       "[(1047117252, u'OLD HORROR GHOST COMIC BOOKS DOCTOR GRAVES #1', 7.01, 3.99, 7.91, 6, u'2001-12-11 06:22:00', u'2001-12-21 06:22:00', u'toyys', u'These 9 old comic books all have ghost related titles. These date back to the 1960s. Includes Ghost manor #2, Ghost Stories #15, Ghostly Tales #66 a ... (201 characters truncated) ... auctions you will be happy you did. No reserve and the buyer pays 3.429 s&h in the U.S.A.As always full refund given if my description is inaccurate!')]"
      ]
     },
     "execution_count": 65,
     "metadata": {},
     "output_type": "execute_result"
    }
   ],
   "source": [
    "%%sql\n",
    "select * from items where itemid = 1047117252"
   ]
  },
  {
   "cell_type": "code",
   "execution_count": 29,
   "metadata": {},
   "outputs": [
    {
     "name": "stdout",
     "output_type": "stream",
     "text": [
      " * sqlite:///./AuctionBase.db\n",
      "Done.\n"
     ]
    },
    {
     "data": {
      "text/html": [
       "<table>\n",
       "    <tr>\n",
       "        <th>ItemID</th>\n",
       "        <th>Name</th>\n",
       "        <th>Currently</th>\n",
       "        <th>First_Bid</th>\n",
       "        <th>Buy_Price</th>\n",
       "        <th>Number_of_Bids</th>\n",
       "        <th>Started</th>\n",
       "        <th>Ends</th>\n",
       "        <th>Seller_UserID</th>\n",
       "        <th>Description</th>\n",
       "    </tr>\n",
       "    <tr>\n",
       "        <td>1046639674</td>\n",
       "        <td>SUPERMAN 1940 ACTION COMIC</td>\n",
       "        <td>290.0</td>\n",
       "        <td>250.0</td>\n",
       "        <td>None</td>\n",
       "        <td>5</td>\n",
       "        <td>2001-12-10 05:54:59</td>\n",
       "        <td>2001-12-20 05:54:59</td>\n",
       "        <td>gsmith@abc6.com</td>\n",
       "        <td>FOR SERIOUS COLLECTORS ONLY. THIS IS A 1940 ACTION COMIC. \"SUPERMAN NO. 30\" IN NEAR MINT CONDITION. DON'T BID IF YOU DON'T INTEND TO PAY. IF YOU HAVE QUESTIONS PLEASE EMAIL ME BEFORE YOU BID. PAYMENT BY MONEY ORDER OR CERTIFIED CHECK ONLY. THANKS FOR LOOKING AND HAPPY HOLIDAYS. Click on a picture to enlarge ') //-- Supersize Picture ') //-- Supersize Picture Free Honesty Counters powered by Andale! Payment Details See item description and Payment Instructions, or contact seller for more information. Payment Instructions I WILL PAY FOR SHIPPING AND INSURANCE ON THIS ITEM AND PROVIDE A TRACKING NUMBER.</td>\n",
       "    </tr>\n",
       "</table>"
      ],
      "text/plain": [
       "[(1046639674, u'SUPERMAN 1940 ACTION COMIC', 290.0, 250.0, None, 5, u'2001-12-10 05:54:59', u'2001-12-20 05:54:59', u'gsmith@abc6.com', u'FOR SERIOUS COLLECTORS ONLY. THIS IS A 1940 ACTION COMIC. \"SUPERMAN NO. 30\" IN NEAR MINT CONDITION. DON\\'T BID IF YOU DON\\'T INTEND TO PAY. IF YOU H ... (314 characters truncated) ... tions, or contact seller for more information. Payment Instructions I WILL PAY FOR SHIPPING AND INSURANCE ON THIS ITEM AND PROVIDE A TRACKING NUMBER.')]"
      ]
     },
     "execution_count": 29,
     "metadata": {},
     "output_type": "execute_result"
    }
   ],
   "source": [
    "%%sql\n",
    "select * from items where itemid = 1046639674"
   ]
  },
  {
   "cell_type": "code",
   "execution_count": 29,
   "metadata": {},
   "outputs": [
    {
     "name": "stdout",
     "output_type": "stream",
     "text": [
      " * sqlite:///./AuctionBase.db\n",
      "Done.\n"
     ]
    },
    {
     "data": {
      "text/html": [
       "<table>\n",
       "    <tr>\n",
       "        <th>ItemID</th>\n",
       "        <th>Name</th>\n",
       "        <th>Currently</th>\n",
       "        <th>First_Bid</th>\n",
       "        <th>Buy_Price</th>\n",
       "        <th>Number_of_Bids</th>\n",
       "        <th>Started</th>\n",
       "        <th>Ends</th>\n",
       "        <th>Seller_UserID</th>\n",
       "        <th>Description</th>\n",
       "    </tr>\n",
       "    <tr>\n",
       "        <td>1047114941</td>\n",
       "        <td>6.5 yards of Beautiful Flowers No Reserve</td>\n",
       "        <td>11.5</td>\n",
       "        <td>0.01</td>\n",
       "        <td>50.57</td>\n",
       "        <td>4</td>\n",
       "        <td>2001-12-11 06:07:33</td>\n",
       "        <td>2001-12-21 06:07:33</td>\n",
       "        <td>bhcraver@surry.net</td>\n",
       "        <td>6.5 yards of Beautiful Flowers No Reserve You are bidding on 6.5 yards of a wonderful fabric suitable for upholstery or drapery. The piece is 54\" wide and is a linen/cotton blend. Please look at our other bhcraver auctions on ebay for even more terrific fabrics! We accept paypal. Winner to pay shipping. Non smoking environment. We ship via UPS or the Postal Service and are not responsible for uninsured items shipped via the Postal Service that are lost or damaged. We recommend to those of you that have your packages shipped via the Postal Service that you purchase Postal Delivery Confirmation (.40-$1.50) but we will not include this charge unless asked. This is the only method the Postal Service has of tracking your package. If you do not purchase this all we can tell you is the date your package was shipped. Items shipped using UPS are automatically insured. ALL international orders, as well as all shipments to PO Boxes in the U.S., are sent ONLY by the United States Postal Service. If you plan on purchasing more than one item and wish to consolidate shipping do not use the \"checkout\" option which appears after an auction closes. Please note that the selvage may have one small hole every yard. The selvage is usually a narrow strip of fabric that runs along both sides of the material and is not used for upholstering. These small holes will in no way effect the use of the fabric. The holes are a result of the way that we sometimes measure short pieces. Please ask any questions you might have about the item BEFORE you bid. If you have any reservations please do not bid as all sales are final. At auctions end we will send the winning bidder an email asking for their address so that we can calculate shipping charges. Due to space limitations we will only consolidate up to ten days worth of winning bids. The ten days begin after the first piece that you win closes. Unfortunately there are NO EXCEPTIONS to this rule as we are operating out of a small space and simply do not have the room to consolidate indefinitely. If you do wish to consolidate it is your responsibility to keep track of what you have won. If payment is not received within 2 weeks from end of auction we reserve the right to relist item and leave negative feedback. DO NOT BID IF YOU DON'T PLAN ON PAYING IN A TIMELY MANNER! This listing created by eBay Seller's Assistant Basic.</td>\n",
       "    </tr>\n",
       "    <tr>\n",
       "        <td>1047117252</td>\n",
       "        <td>OLD HORROR GHOST COMIC BOOKS DOCTOR GRAVES #1</td>\n",
       "        <td>6.5</td>\n",
       "        <td>3.99</td>\n",
       "        <td>7.91</td>\n",
       "        <td>3</td>\n",
       "        <td>2001-12-11 06:22:00</td>\n",
       "        <td>2001-12-21 06:22:00</td>\n",
       "        <td>toyys</td>\n",
       "        <td>These 9 old comic books all have ghost related titles. These date back to the 1960s. Includes Ghost manor #2, Ghost Stories #15, Ghostly Tales #66 and #68, Many Ghosts of Doctor Graves #1 and #10,Visit Ghost manor #73 and #75 and Ghosts #109. These are all complete cool old comics.I will be listing many old items in the future please book mark my auctions you will be happy you did. No reserve and the buyer pays 3.429 s&amp;h in the U.S.A.As always full refund given if my description is inaccurate!</td>\n",
       "    </tr>\n",
       "    <tr>\n",
       "        <td>1047343281</td>\n",
       "        <td>Snow Village - Beacon Hill Victoria</td>\n",
       "        <td>5.0</td>\n",
       "        <td>5.0</td>\n",
       "        <td>23.15</td>\n",
       "        <td>1</td>\n",
       "        <td>2001-12-11 16:47:46</td>\n",
       "        <td>2001-12-21 16:47:46</td>\n",
       "        <td>starrstuf</td>\n",
       "        <td>Dept 56 Snow Village Beacon Hill Victoria, item #5485-7. Issued 1995, Retired 1998. Excellent condition packed in its own original box &amp; sleeve. Please add $8.00 shipping within the USA. I accept PayPal, money order, cashier check &amp; personal check. Upon receipt of payment, item will ship the next business day except for personal check. Personal check will ship 10 business days later.</td>\n",
       "    </tr>\n",
       "    <tr>\n",
       "        <td>1047642330</td>\n",
       "        <td>Dept 56 DOVER COACH Version 1 - Mint</td>\n",
       "        <td>9.99</td>\n",
       "        <td>9.99</td>\n",
       "        <td>46.44</td>\n",
       "        <td>1</td>\n",
       "        <td>2001-12-12 08:00:41</td>\n",
       "        <td>2001-12-22 08:00:41</td>\n",
       "        <td>antiquinet</td>\n",
       "        <td>#6590-0 DOVER COACH, eachVersion 1, with no mustache; with loose reins . MINT with original packaging. Sorry no pictures. See my MANY MANY OTHER DEPT 56 offerings. Seller unavailable for e-mail until 12/19.</td>\n",
       "    </tr>\n",
       "    <tr>\n",
       "        <td>1048117661</td>\n",
       "        <td>Old Handstitched Quilt - Cutter or Mend</td>\n",
       "        <td>19.95</td>\n",
       "        <td>19.95</td>\n",
       "        <td>42.13</td>\n",
       "        <td>1</td>\n",
       "        <td>2001-12-13 09:15:58</td>\n",
       "        <td>2001-12-20 09:15:58</td>\n",
       "        <td>jepper5783@aol.com</td>\n",
       "        <td>This is an old handstitched quilt which has very bright colors, lots of different colorful pieces. The stitching is wide stitched and this quilt is actually in very good condition and can be used for display or on your bed. There are two separations which need mending, a little fading in one area and some stains on back. This would be great to use as a cutter also. Just the kind of quilt Grandmother would have had but not an early vintage quilt. Measures 66\"x78\". Heavy quilt with batting. Buyer pays $7.00 priority shipping. Insurance extra. Not responsible for uninsured items. Payment due in 10 days. PAYPAL - Money Orders - Checks accepted with good feedback. Happy holidays!!</td>\n",
       "    </tr>\n",
       "</table>"
      ],
      "text/plain": [
       "[(1047114941, u'6.5 yards of Beautiful Flowers No Reserve', 11.5, 0.01, 50.57, 4, u'2001-12-11 06:07:33', u'2001-12-21 06:07:33', u'bhcraver@surry.net', u'6.5 yards of Beautiful Flowers No Reserve You are bidding on 6.5 yards of a wonderful fabric suitable for upholstery or drapery. The piece is 54\" wi ... (2083 characters truncated) ... item and leave negative feedback. DO NOT BID IF YOU DON\\'T PLAN ON PAYING IN A TIMELY MANNER! This listing created by eBay Seller\\'s Assistant Basic.'),\n",
       " (1047117252, u'OLD HORROR GHOST COMIC BOOKS DOCTOR GRAVES #1', 6.5, 3.99, 7.91, 3, u'2001-12-11 06:22:00', u'2001-12-21 06:22:00', u'toyys', u'These 9 old comic books all have ghost related titles. These date back to the 1960s. Includes Ghost manor #2, Ghost Stories #15, Ghostly Tales #66 a ... (201 characters truncated) ... auctions you will be happy you did. No reserve and the buyer pays 3.429 s&h in the U.S.A.As always full refund given if my description is inaccurate!'),\n",
       " (1047343281, u'Snow Village - Beacon Hill Victoria', 5.0, 5.0, 23.15, 1, u'2001-12-11 16:47:46', u'2001-12-21 16:47:46', u'starrstuf', u'Dept 56 Snow Village Beacon Hill Victoria, item #5485-7. Issued 1995, Retired 1998. Excellent condition packed in its own original box & sleeve. Ple ... (89 characters truncated) ... onal check. Upon receipt of payment, item will ship the next business day except for personal check. Personal check will ship 10 business days later.'),\n",
       " (1047642330, u'Dept 56 DOVER COACH Version 1 - Mint', 9.99, 9.99, 46.44, 1, u'2001-12-12 08:00:41', u'2001-12-22 08:00:41', u'antiquinet', u'#6590-0 DOVER COACH, eachVersion 1, with no mustache; with loose reins . MINT with original packaging. Sorry no pictures. See my MANY MANY OTHER DEPT 56 offerings. Seller unavailable for e-mail until 12/19.'),\n",
       " (1048117661, u'Old Handstitched Quilt - Cutter or Mend', 19.95, 19.95, 42.13, 1, u'2001-12-13 09:15:58', u'2001-12-20 09:15:58', u'jepper5783@aol.com', u'This is an old handstitched quilt which has very bright colors, lots of different colorful pieces. The stitching is wide stitched and this quilt is  ... (387 characters truncated) ... ance extra. Not responsible for uninsured items. Payment due in 10 days. PAYPAL - Money Orders - Checks accepted with good feedback. Happy holidays!!')]"
      ]
     },
     "execution_count": 29,
     "metadata": {},
     "output_type": "execute_result"
    }
   ],
   "source": [
    "%%sql\n",
    "select * from items where number_of_bids > 0 and buy_price > 0 and ends > (select time from currenttime) and started <= (select time from currenttime) limit 5"
   ]
  },
  {
   "cell_type": "code",
   "execution_count": 81,
   "metadata": {},
   "outputs": [],
   "source": [
    "import sys; sys.path.insert(0, 'lib') # this line is necessary for the rest\n",
    "import os   \n",
    "import web\n",
    "import sqlitedb\n",
    "from jinja2 import Environment, FileSystemLoader\n",
    "from datetime import datetime\n",
    "\n",
    "\n",
    "\n",
    "db = web.database(dbn='sqlite',\n",
    "        db='AuctionBase.db' #TODO: add your SQLite database filename\n",
    "    )\n",
    "\n",
    "######################BEGIN HELPER METHODS######################\n",
    "\n",
    "# Enforce foreign key constraints\n",
    "# WARNING: DO NOT REMOVE THIS!\n",
    "def enforceForeignKey():\n",
    "    db.query('PRAGMA foreign_keys = ON')\n",
    "\n",
    "# initiates a transaction on the database\n",
    "def transaction():\n",
    "    return db.transaction()\n",
    "# Sample usage (in auctionbase.py):\n",
    "#\n",
    "# t = sqlitedb.transaction()\n",
    "# try:\n",
    "#     sqlitedb.query('[FIRST QUERY STATEMENT]')\n",
    "#     sqlitedb.query('[SECOND QUERY STATEMENT]')\n",
    "# except Exception as e:\n",
    "#     t.rollback()\n",
    "#     print str(e)\n",
    "# else:\n",
    "#     t.commit()\n",
    "#\n",
    "# check out http://webpy.org/cookbook/transactions for examples\n",
    "\n",
    "# returns the current time from your database\n",
    "def getTime():\n",
    "    # TODO: update the query string to match\n",
    "    # the correct column and table name in your database\n",
    "    query_string = 'select Time from CurrentTime'\n",
    "    results = db.query(query_string)\n",
    "    # alternatively: return results[0]['currenttime']\n",
    "    return results[0].Time # TODO: update this as well to match the\n",
    "                                  # column name\n",
    "\n",
    "# returns a single item specified by the Item's ID in the database\n",
    "# Note: if the `result' list is empty (i.e. there are no items for a\n",
    "# a given ID), this will throw an Exception!\n",
    "def getItemById(item_id):\n",
    "    # TODO: rewrite this method to catch the Exception in case `result' is empty\n",
    "    query_string = 'select * from Items where itemID = $itemID'\n",
    "    try:\n",
    "        result = db.query(query_string, {'itemID': item_id})\n",
    "        return result[0]\n",
    "    except not result:\n",
    "        return \"No result\"\n",
    "    \n",
    "    \n",
    "def getCategoryById(item_id):\n",
    "    query_string = 'select * from Categories where ItemId = $ItemID'\n",
    "    try:\n",
    "        result = db.query(query_string, {'ItemID': item_id})\n",
    "        return result\n",
    "    except not result:\n",
    "        return \"No result\"\n",
    "\n",
    "def getBidById(item_id):\n",
    "    query_string = 'select * from Bids where ItemId = $ItemID order by Time desc'\n",
    "    try:\n",
    "        result = db.query(query_string, {'ItemID': item_id})\n",
    "        return result\n",
    "    except not result:\n",
    "        return \"No result\"\n",
    "\n",
    "    \n",
    "def getStatusById(item_id):\n",
    "    query_open = 'select * from Items where ItemID = $ItemID and Started <= (select Time from CurrentTime) and Ends > (select Time from CurrentTime) and (Currently < Buy_Price or Buy_Price is NULL)'\n",
    "    result_open = db.query(query_open, {'ItemID' : item_id})\n",
    "    if result_open:\n",
    "        print('open')\n",
    "    else:\n",
    "        query_close = 'select * from Items where ItemID = $ItemID and (Ends <= (select Time from CurrentTime) or Currently >= Buy_Price)'\n",
    "        result_close = db.query(query_close, {'ItemID':item_id})\n",
    "        if result_close:\n",
    "            print('close')\n",
    "        else:\n",
    "            print('not started')\n",
    "# wrapper method around web.py's db.query method\n",
    "# check out http://webpy.org/cookbook/query for more info\n",
    "def query(query_string, vars = {}):\n",
    "    return list(db.query(query_string, vars))\n",
    "\n",
    "#####################END HELPER METHODS#####################\n",
    "\n",
    "#TODO: additional methods to interact with your database,\n",
    "# e.g. to update the current time\n",
    "def updateTime(time):\n",
    "    try:\n",
    "        txn = transaction()\n",
    "        ##if time is less than or equal to current time, return false\n",
    "        q1 = query('select time from currenttime where time <= $time', {'time':time})\n",
    "        if (len(q1)<= 0 ):\n",
    "            return \"Fail to update time\"\n",
    "        query_string = 'update CurrentTime set Time = $time'\n",
    "        query(query_string, {'time':time})\n",
    "    except:\n",
    "        txn.rollback()\n",
    "        return \"Cannot Update\"\n",
    "    else:\n",
    "        txn.commit()\n",
    "        return \"Successfully update time\"\n",
    "\n",
    "def addBid(item_id, user_id, amount):\n",
    "    try:\n",
    "        txn = transaction()\n",
    "        ##check whether the user exists.if not, directly return false.\n",
    "        q1 = query('select * from Users where UserID =  $user_id', vars={ 'user_id' : user_id })\n",
    "        if (len(q1)<=0): \n",
    "            return False\n",
    "        ##check whether the item is exist and open and the amount if greater than currently: if not, directly return false.\n",
    "        q2 = query('select * from Items where ItemID = $item_id and Started <= (select Time from CurrentTime) and Ends > (select Time from CurrentTime) and ( (Buy_Price is NULL) or (Currently < Buy_Price) ) and Currently < $Amount', vars={'item_id':item_id, 'Amount': amount })\n",
    "        if (len(q2)<=0):\n",
    "            return False\n",
    "        ##check if there has already exists bid at the current time: if yes, return false\n",
    "        q3 = query('select * from bids where ItemID = $item_id and time = (select Time from CurrentTime)', vars={'item_id':item_id })\n",
    "        if (len(q3)>0):\n",
    "            return False\n",
    "        ##if buy price in items is not null\n",
    "        ####if ends in items hasn't been reached, but given amount has been greater than buy price\n",
    "        ######update ends to currenttime\n",
    "        query('update Items SET Ends=(select Time from CurrentTime) WHERE ItemID=$item_id and ( (not (buy_price is NULL)) and ($Amount >= buy_price) )', {'item_id':item_id, 'Amount': amount})\n",
    "        ##add new bid to table bids\n",
    "        query('insert into Bids values($item_id, $user_id, $Amount, (select Time from CurrentTime))', {'item_id':item_id, 'user_id':user_id, 'Amount':amount})\n",
    "    #     ##if number of bids in items == 0, first bid = amount in table items\n",
    "    #     query('update Items SET first_bid=$Amount WHERE ItemID=$item_id and number_of_bids = 0', {'item_id':item_id, 'Amount': amount})\n",
    "    #     ##currently change to amount, and number of bids++ in table items\n",
    "    #     query('update Items SET currently=$Amount, number_of_bids = (1+(select number_of_bids from items where itemid = $item_id)) WHERE ItemID=$item_id', {'item_id':item_id, 'Amount': amount})\n",
    "    except:\n",
    "        txn.rollback()\n",
    "        return \"False to add bid\"\n",
    "    else:\n",
    "        txn.commit()\n",
    "        return True\n",
    "\n",
    "def browse(itemID = '', category = '', description = '', pmin = '', pmax = '', status = ''):\n",
    "    query_string = 'select * from Items where '\n",
    "    field = {}\n",
    "    flag = True\n",
    "    if itemID != '':\n",
    "        field['itemID'] = itemID\n",
    "        query_string += 'ItemID in (select ItemID from Items where ItemID = $itemID)'\n",
    "        flag = False \n",
    "\n",
    "    if category != '':\n",
    "        field['category'] = category\n",
    "        if flag == True:\n",
    "            query_string += 'ItemID in (select ItemID from Categories where Category = $category)'\n",
    "            flag = False\n",
    "        else:\n",
    "            query_string += ' and ItemID in (select ItemID from Categories where Category = $category)'\n",
    "            \n",
    "    if description != '':    \n",
    "        field['description'] = description\n",
    "        if flag == True: \n",
    "            query_string += 'ItemID in (select ItemID from Items where Description like $description)'\n",
    "            flag = False\n",
    "        else:\n",
    "            query_string += ' and ItemID in (select ItemID from Items where Description like $description)'\n",
    "            \n",
    "    if pmin != '':\n",
    "        field['pmin'] = pmin\n",
    "        if flag == True:\n",
    "            query_string += 'ItemID in (select ItemID from Items where Currently >= $pmin)'\n",
    "            flag = False\n",
    "        else:\n",
    "            query_string += ' and ItemID in (select ItemID from Items where Currently >= $pmin)'\n",
    "\n",
    "    if pmax != '':\n",
    "        field['pmax'] = pmax\n",
    "        if flag == True: \n",
    "            query_string += 'ItemID in (select ItemID from Items where Currently <= $pmax)'\n",
    "            flag = False\n",
    "        else:\n",
    "            query_string += ' and ItemID in (select ItemID from Items where Currently <= $pmax)'\n",
    "\n",
    "    if status == 'open':\n",
    "        if flag == True:\n",
    "            query_string += 'Started <= (select Time from CurrentTime) and Ends > (select Time from CurrentTime) and (Currently < Buy_Price or Buy_Price is NULL)'\n",
    "            flag = False\n",
    "        else:\n",
    "            query_string += ' and Started <= (select Time from CurrentTime) and Ends > (select Time from CurrentTime) and (Currently < Buy_Price or Buy_Price is NULL)'\n",
    "    elif status == 'close':\n",
    "        if flag == True:\n",
    "            query_string += '(Ends <= (select Time from CurrentTime) or Currently >= Buy_Price)'\n",
    "            flag = False\n",
    "        else:\n",
    "            query_string += ' and (Ends <= (select Time from CurrentTime) or Currently >= Buy_Price)'\n",
    "\n",
    "    if flag == True:\n",
    "        query_string = 'select * from Items'\n",
    "    result = db.query(query_string, field)\n",
    "    return result\n",
    "\n"
   ]
  },
  {
   "cell_type": "code",
   "execution_count": null,
   "metadata": {},
   "outputs": [],
   "source": []
  }
 ],
 "metadata": {
  "kernelspec": {
   "display_name": "Python 2",
   "language": "python",
   "name": "python2"
  },
  "language_info": {
   "codemirror_mode": {
    "name": "ipython",
    "version": 2
   },
   "file_extension": ".py",
   "mimetype": "text/x-python",
   "name": "python",
   "nbconvert_exporter": "python",
   "pygments_lexer": "ipython2",
   "version": "2.7.15"
  }
 },
 "nbformat": 4,
 "nbformat_minor": 2
}
